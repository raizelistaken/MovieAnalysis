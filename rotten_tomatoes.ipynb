{
 "cells": [
  {
   "cell_type": "code",
   "execution_count": 75,
   "metadata": {},
   "outputs": [],
   "source": [
    "import requests\n",
    "from bs4 import BeautifulSoup\n",
    "import pandas as pd\n",
    "import numpy as np\n",
    "import time\n",
    "import random\n",
    "import re\n",
    "from collections import Counter"
   ]
  },
  {
   "cell_type": "code",
   "execution_count": 35,
   "metadata": {},
   "outputs": [],
   "source": [
    "headers = {\"Accept-Language\": \"en-US, en;q=0.5\"}\n",
    "url = 'https://www.the-numbers.com/market/2019/top-grossing-movies'\n",
    "results = requests.get(url, headers=headers)\n",
    "soup = BeautifulSoup(results.content, \"html.parser\")"
   ]
  },
  {
   "cell_type": "code",
   "execution_count": 53,
   "metadata": {
    "tags": []
   },
   "outputs": [
    {
     "name": "stdout",
     "output_type": "stream",
     "text": [
      "Avengers: Endgame\n1\n"
     ]
    }
   ],
   "source": [
    "table = soup.find(\"table\")\n",
    "links = [a.text for a in table.find_all('a')[:1000]]\n",
    "numbers = [a.text for a in table.find_all('td', class_='data')[:750]]\n",
    "print(links[0])\n",
    "print(numbers[0])\n",
    "df = pd.DataFrame(np.array(links).reshape(-1,4), columns = ['Movie', 'Release Date', 'Distributor', 'Genre'])\n",
    "df2 = pd.DataFrame(np.array(numbers).reshape(-1, 3), columns = ['Rank', '2019 Gross', 'Tickets Sold'])"
   ]
  },
  {
   "cell_type": "code",
   "execution_count": 81,
   "metadata": {},
   "outputs": [
    {
     "name": "stdout",
     "output_type": "stream",
     "text": [
      "250\n"
     ]
    }
   ],
   "source": [
    "budget_links = [a['href'] for a in table.find_all('a')[:1000:4]]\n",
    "print(len(budget_links))\n",
    "figures_list = []\n",
    "#    for link in budget_links:\n",
    " #       url = 'https://www.the-numbers.com{}'.format(link)\n",
    "  #      results = requests.get(url, headers=headers)\n",
    "  #      soup = BeautifulSoup(results.content, \"html.parser\")\n",
    "  #     div = soup.find('div', {'id': 'summary'})\n",
    "   #     figures = div.find_all(string=re.compile(\"\\$\\d+\"))\n",
    "   #     figures_list.append(figures[:3])"
   ]
  },
  {
   "cell_type": "code",
   "execution_count": 54,
   "metadata": {},
   "outputs": [
    {
     "name": "stdout",
     "output_type": "stream",
     "text": [
      "               Movie  Release Date  Distributor      Genre\n0  Avengers: Endgame  Apr 26, 2019  Walt Disney     Action\n1      The Lion King  Jul 19, 2019  Walt Disney  Adventure\n2          Frozen II  Nov 22, 2019  Walt Disney  Adventure\n3        Toy Story 4  Jun 21, 2019  Walt Disney  Adventure\n4     Captain Marvel   Mar 8, 2019  Walt Disney     Action\n"
     ]
    }
   ],
   "source": [
    "print(df.head())"
   ]
  },
  {
   "cell_type": "code",
   "execution_count": 55,
   "metadata": {},
   "outputs": [
    {
     "name": "stdout",
     "output_type": "stream",
     "text": [
      "  Rank    2019 Gross Tickets Sold\n0    1  $858,373,000   94,223,161\n1    2  $543,638,043   59,674,868\n2    3  $450,439,533   49,444,515\n3    4  $434,038,008   47,644,128\n4    5  $426,829,839   46,852,891\n"
     ]
    }
   ],
   "source": [
    "print(df2.head())"
   ]
  },
  {
   "cell_type": "code",
   "execution_count": 58,
   "metadata": {},
   "outputs": [
    {
     "data": {
      "text/html": [
       "<div>\n",
       "<style scoped>\n",
       "    .dataframe tbody tr th:only-of-type {\n",
       "        vertical-align: middle;\n",
       "    }\n",
       "\n",
       "    .dataframe tbody tr th {\n",
       "        vertical-align: top;\n",
       "    }\n",
       "\n",
       "    .dataframe thead th {\n",
       "        text-align: right;\n",
       "    }\n",
       "</style>\n",
       "<table border=\"1\" class=\"dataframe\">\n",
       "  <thead>\n",
       "    <tr style=\"text-align: right;\">\n",
       "      <th></th>\n",
       "      <th>Movie</th>\n",
       "      <th>Release Date</th>\n",
       "      <th>Distributor</th>\n",
       "      <th>Genre</th>\n",
       "      <th>Rank</th>\n",
       "      <th>2019 Gross</th>\n",
       "      <th>Tickets Sold</th>\n",
       "    </tr>\n",
       "  </thead>\n",
       "  <tbody>\n",
       "    <tr>\n",
       "      <th>0</th>\n",
       "      <td>Avengers: Endgame</td>\n",
       "      <td>Apr 26, 2019</td>\n",
       "      <td>Walt Disney</td>\n",
       "      <td>Action</td>\n",
       "      <td>1</td>\n",
       "      <td>$858,373,000</td>\n",
       "      <td>94,223,161</td>\n",
       "    </tr>\n",
       "    <tr>\n",
       "      <th>1</th>\n",
       "      <td>The Lion King</td>\n",
       "      <td>Jul 19, 2019</td>\n",
       "      <td>Walt Disney</td>\n",
       "      <td>Adventure</td>\n",
       "      <td>2</td>\n",
       "      <td>$543,638,043</td>\n",
       "      <td>59,674,868</td>\n",
       "    </tr>\n",
       "    <tr>\n",
       "      <th>2</th>\n",
       "      <td>Frozen II</td>\n",
       "      <td>Nov 22, 2019</td>\n",
       "      <td>Walt Disney</td>\n",
       "      <td>Adventure</td>\n",
       "      <td>3</td>\n",
       "      <td>$450,439,533</td>\n",
       "      <td>49,444,515</td>\n",
       "    </tr>\n",
       "    <tr>\n",
       "      <th>3</th>\n",
       "      <td>Toy Story 4</td>\n",
       "      <td>Jun 21, 2019</td>\n",
       "      <td>Walt Disney</td>\n",
       "      <td>Adventure</td>\n",
       "      <td>4</td>\n",
       "      <td>$434,038,008</td>\n",
       "      <td>47,644,128</td>\n",
       "    </tr>\n",
       "    <tr>\n",
       "      <th>4</th>\n",
       "      <td>Captain Marvel</td>\n",
       "      <td>Mar 8, 2019</td>\n",
       "      <td>Walt Disney</td>\n",
       "      <td>Action</td>\n",
       "      <td>5</td>\n",
       "      <td>$426,829,839</td>\n",
       "      <td>46,852,891</td>\n",
       "    </tr>\n",
       "  </tbody>\n",
       "</table>\n",
       "</div>"
      ],
      "text/plain": [
       "               Movie  Release Date  Distributor      Genre Rank    2019 Gross  \\\n",
       "0  Avengers: Endgame  Apr 26, 2019  Walt Disney     Action    1  $858,373,000   \n",
       "1      The Lion King  Jul 19, 2019  Walt Disney  Adventure    2  $543,638,043   \n",
       "2          Frozen II  Nov 22, 2019  Walt Disney  Adventure    3  $450,439,533   \n",
       "3        Toy Story 4  Jun 21, 2019  Walt Disney  Adventure    4  $434,038,008   \n",
       "4     Captain Marvel   Mar 8, 2019  Walt Disney     Action    5  $426,829,839   \n",
       "\n",
       "  Tickets Sold  \n",
       "0   94,223,161  \n",
       "1   59,674,868  \n",
       "2   49,444,515  \n",
       "3   47,644,128  \n",
       "4   46,852,891  "
      ]
     },
     "execution_count": 58,
     "metadata": {},
     "output_type": "execute_result"
    }
   ],
   "source": [
    "df3 = pd.concat([df, df2], axis = 1)\n",
    "df3.head()"
   ]
  },
  {
   "cell_type": "code",
   "execution_count": null,
   "metadata": {},
   "outputs": [],
   "source": [
    "df3.to_csv()"
   ]
  },
  {
   "cell_type": "code",
   "execution_count": null,
   "metadata": {},
   "outputs": [],
   "source": [
    "headers = {\"Accept-Language\": \"en-US, en;q=0.5\"}\n",
    "url = 'https://www.the-numbers.com/market/2018/top-grossing-movies'\n",
    "results = requests.get(url, headers=headers)\n",
    "soup = BeautifulSoup(results.content, \"html.parser\")"
   ]
  },
  {
   "cell_type": "code",
   "execution_count": null,
   "metadata": {},
   "outputs": [],
   "source": []
  },
  {
   "cell_type": "code",
   "execution_count": 4,
   "metadata": {},
   "outputs": [],
   "source": [
    "df1 = pd.read_csv('tmdb_popular.csv')"
   ]
  },
  {
   "cell_type": "code",
   "execution_count": null,
   "metadata": {},
   "outputs": [],
   "source": [
    "df2 = pd.read_csv('top_1000_by_us_box_office.csv')"
   ]
  },
  {
   "cell_type": "code",
   "execution_count": 5,
   "metadata": {},
   "outputs": [
    {
     "data": {
      "text/html": [
       "<div>\n",
       "<style scoped>\n",
       "    .dataframe tbody tr th:only-of-type {\n",
       "        vertical-align: middle;\n",
       "    }\n",
       "\n",
       "    .dataframe tbody tr th {\n",
       "        vertical-align: top;\n",
       "    }\n",
       "\n",
       "    .dataframe thead th {\n",
       "        text-align: right;\n",
       "    }\n",
       "</style>\n",
       "<table border=\"1\" class=\"dataframe\">\n",
       "  <thead>\n",
       "    <tr style=\"text-align: right;\">\n",
       "      <th></th>\n",
       "      <th>Unnamed: 0</th>\n",
       "      <th>popularity</th>\n",
       "      <th>vote_count</th>\n",
       "      <th>video</th>\n",
       "      <th>poster_path</th>\n",
       "      <th>id</th>\n",
       "      <th>adult</th>\n",
       "      <th>backdrop_path</th>\n",
       "      <th>original_language</th>\n",
       "      <th>original_title</th>\n",
       "      <th>genre_ids</th>\n",
       "      <th>title</th>\n",
       "      <th>vote_average</th>\n",
       "      <th>overview</th>\n",
       "      <th>release_date</th>\n",
       "    </tr>\n",
       "  </thead>\n",
       "  <tbody>\n",
       "    <tr>\n",
       "      <th>0</th>\n",
       "      <td>0</td>\n",
       "      <td>3778.011</td>\n",
       "      <td>60</td>\n",
       "      <td>False</td>\n",
       "      <td>/h8Rb9gBr48ODIwYUttZNYeMWeUU.jpg</td>\n",
       "      <td>635302</td>\n",
       "      <td>False</td>\n",
       "      <td>/xoqr4dMbRJnzuhsWDF3XNHQwJ9x.jpg</td>\n",
       "      <td>ja</td>\n",
       "      <td>劇場版「鬼滅の刃」無限列車編</td>\n",
       "      <td>[16, 28, 36, 12, 14, 18]</td>\n",
       "      <td>Demon Slayer: Kimetsu no Yaiba - The Movie: Mu...</td>\n",
       "      <td>6.3</td>\n",
       "      <td>Tanjirō Kamado, joined with Inosuke Hashibira,...</td>\n",
       "      <td>2020-10-16</td>\n",
       "    </tr>\n",
       "    <tr>\n",
       "      <th>1</th>\n",
       "      <td>1</td>\n",
       "      <td>2403.297</td>\n",
       "      <td>569</td>\n",
       "      <td>False</td>\n",
       "      <td>/betExZlgK0l7CZ9CsCBVcwO1OjL.jpg</td>\n",
       "      <td>531219</td>\n",
       "      <td>False</td>\n",
       "      <td>/8rIoyM6zYXJNjzGseT3MRusMPWl.jpg</td>\n",
       "      <td>en</td>\n",
       "      <td>Roald Dahl's The Witches</td>\n",
       "      <td>[14, 10751, 12, 35, 27]</td>\n",
       "      <td>Roald Dahl's The Witches</td>\n",
       "      <td>7.1</td>\n",
       "      <td>In late 1967, a young orphaned boy goes to liv...</td>\n",
       "      <td>2020-10-26</td>\n",
       "    </tr>\n",
       "    <tr>\n",
       "      <th>2</th>\n",
       "      <td>2</td>\n",
       "      <td>2303.555</td>\n",
       "      <td>105</td>\n",
       "      <td>False</td>\n",
       "      <td>/ugZW8ocsrfgI95pnQ7wrmKDxIe.jpg</td>\n",
       "      <td>724989</td>\n",
       "      <td>False</td>\n",
       "      <td>/86L8wqGMDbwURPni2t7FQ0nDjsH.jpg</td>\n",
       "      <td>en</td>\n",
       "      <td>Hard Kill</td>\n",
       "      <td>[28, 53]</td>\n",
       "      <td>Hard Kill</td>\n",
       "      <td>4.8</td>\n",
       "      <td>The work of billionaire tech CEO Donovan Chalm...</td>\n",
       "      <td>2020-10-23</td>\n",
       "    </tr>\n",
       "    <tr>\n",
       "      <th>3</th>\n",
       "      <td>3</td>\n",
       "      <td>1832.827</td>\n",
       "      <td>280</td>\n",
       "      <td>False</td>\n",
       "      <td>/7D430eqZj8y3oVkLFfsWXGRcpEG.jpg</td>\n",
       "      <td>528085</td>\n",
       "      <td>False</td>\n",
       "      <td>/5UkzNSOK561c2QRy2Zr4AkADzLT.jpg</td>\n",
       "      <td>en</td>\n",
       "      <td>2067</td>\n",
       "      <td>[878, 53, 18]</td>\n",
       "      <td>2067</td>\n",
       "      <td>5.0</td>\n",
       "      <td>A lowly utility worker is called to the future...</td>\n",
       "      <td>2020-10-01</td>\n",
       "    </tr>\n",
       "    <tr>\n",
       "      <th>4</th>\n",
       "      <td>4</td>\n",
       "      <td>1414.570</td>\n",
       "      <td>112</td>\n",
       "      <td>False</td>\n",
       "      <td>/zfdhsR3Y3xw42OHrMpi0oBw0Uk8.jpg</td>\n",
       "      <td>741074</td>\n",
       "      <td>False</td>\n",
       "      <td>/DA7gzvlBoxMNL0XmGgTZOyv67P.jpg</td>\n",
       "      <td>en</td>\n",
       "      <td>Once Upon a Snowman</td>\n",
       "      <td>[16, 10751, 35, 14]</td>\n",
       "      <td>Once Upon a Snowman</td>\n",
       "      <td>7.5</td>\n",
       "      <td>The previously untold origins of Olaf, the inn...</td>\n",
       "      <td>2020-10-23</td>\n",
       "    </tr>\n",
       "  </tbody>\n",
       "</table>\n",
       "</div>"
      ],
      "text/plain": [
       "   Unnamed: 0  popularity  vote_count  video  \\\n",
       "0           0    3778.011          60  False   \n",
       "1           1    2403.297         569  False   \n",
       "2           2    2303.555         105  False   \n",
       "3           3    1832.827         280  False   \n",
       "4           4    1414.570         112  False   \n",
       "\n",
       "                        poster_path      id  adult  \\\n",
       "0  /h8Rb9gBr48ODIwYUttZNYeMWeUU.jpg  635302  False   \n",
       "1  /betExZlgK0l7CZ9CsCBVcwO1OjL.jpg  531219  False   \n",
       "2   /ugZW8ocsrfgI95pnQ7wrmKDxIe.jpg  724989  False   \n",
       "3  /7D430eqZj8y3oVkLFfsWXGRcpEG.jpg  528085  False   \n",
       "4  /zfdhsR3Y3xw42OHrMpi0oBw0Uk8.jpg  741074  False   \n",
       "\n",
       "                      backdrop_path original_language  \\\n",
       "0  /xoqr4dMbRJnzuhsWDF3XNHQwJ9x.jpg                ja   \n",
       "1  /8rIoyM6zYXJNjzGseT3MRusMPWl.jpg                en   \n",
       "2  /86L8wqGMDbwURPni2t7FQ0nDjsH.jpg                en   \n",
       "3  /5UkzNSOK561c2QRy2Zr4AkADzLT.jpg                en   \n",
       "4   /DA7gzvlBoxMNL0XmGgTZOyv67P.jpg                en   \n",
       "\n",
       "             original_title                 genre_ids  \\\n",
       "0            劇場版「鬼滅の刃」無限列車編  [16, 28, 36, 12, 14, 18]   \n",
       "1  Roald Dahl's The Witches   [14, 10751, 12, 35, 27]   \n",
       "2                 Hard Kill                  [28, 53]   \n",
       "3                      2067             [878, 53, 18]   \n",
       "4       Once Upon a Snowman       [16, 10751, 35, 14]   \n",
       "\n",
       "                                               title  vote_average  \\\n",
       "0  Demon Slayer: Kimetsu no Yaiba - The Movie: Mu...           6.3   \n",
       "1                           Roald Dahl's The Witches           7.1   \n",
       "2                                          Hard Kill           4.8   \n",
       "3                                               2067           5.0   \n",
       "4                                Once Upon a Snowman           7.5   \n",
       "\n",
       "                                            overview release_date  \n",
       "0  Tanjirō Kamado, joined with Inosuke Hashibira,...   2020-10-16  \n",
       "1  In late 1967, a young orphaned boy goes to liv...   2020-10-26  \n",
       "2  The work of billionaire tech CEO Donovan Chalm...   2020-10-23  \n",
       "3  A lowly utility worker is called to the future...   2020-10-01  \n",
       "4  The previously untold origins of Olaf, the inn...   2020-10-23  "
      ]
     },
     "execution_count": 5,
     "metadata": {},
     "output_type": "execute_result"
    }
   ],
   "source": [
    "df1.head()"
   ]
  },
  {
   "cell_type": "code",
   "execution_count": null,
   "metadata": {},
   "outputs": [],
   "source": []
  }
 ],
 "metadata": {
  "kernelspec": {
   "display_name": "learn-env",
   "name": "learn-env"
  },
  "language_info": {
   "codemirror_mode": {
    "name": "ipython",
    "version": 3
   },
   "file_extension": ".py",
   "mimetype": "text/x-python",
   "name": "python",
   "nbconvert_exporter": "python",
   "pygments_lexer": "ipython3",
   "version": "3.6.9-final"
  }
 },
 "nbformat": 4,
 "nbformat_minor": 2
}

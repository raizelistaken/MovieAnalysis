{
 "cells": [
  {
   "cell_type": "code",
   "execution_count": 36,
   "metadata": {},
   "outputs": [],
   "source": [
    "import requests\n",
    "from requests import get\n",
    "from bs4 import BeautifulSoup\n",
    "import pandas as pd\n",
    "import numpy as np\n",
    "import time\n",
    "import re\n",
    "import random\n"
   ]
  },
  {
   "cell_type": "code",
   "execution_count": 37,
   "metadata": {},
   "outputs": [],
   "source": [
    "headers = {\"Accept-Language\": \"en-US, en;q=0.5\"}"
   ]
  },
  {
   "cell_type": "code",
   "execution_count": 45,
   "metadata": {},
   "outputs": [
    {
     "name": "stdout",
     "output_type": "stream",
     "text": [
      "[]\n"
     ]
    }
   ],
   "source": [
    "url = 'https://www.rottentomatoes.com/top/'\n",
    "results2 = requests.get(url, headers=headers)\n",
    "soup2 = BeautifulSoup(results2.content, \"html.parser\")\n",
    "top_table = soup.select('section.panel.panel-rt.panel-box ul.genrelist a.articleLink.unstyled')\n",
    "print(top_table)"
   ]
  },
  {
   "cell_type": "code",
   "execution_count": 46,
   "metadata": {},
   "outputs": [
    {
     "name": "stdout",
     "output_type": "stream",
     "text": [
      "['/m/black_panther_2018', '/m/avengers_endgame', '/m/mission_impossible_fallout', '/m/mad_max_fury_road', '/m/spider_man_into_the_spider_verse', '/m/wonder_woman_2017', '/m/dunkirk_2017', '/m/coco_2017', '/m/thor_ragnarok_2017', '/m/logan_2017', '/m/star_wars_the_last_jedi', '/m/1000355-adventures_of_robin_hood', '/m/1011615-king_kong', '/m/spider_man_far_from_home', '/m/incredibles_2', '/m/zootopia', '/m/star_wars_episode_vii_the_force_awakens', '/m/1013775-metropolis', '/m/war_for_the_planet_of_the_apes', '/m/seven_samurai_1956', '/m/spider_man_homecoming', '/m/baby_driver', '/m/shazam', '/m/up', '/m/jaws', '/m/the_dark_knight', '/m/lawrence_of_arabia', '/m/1000121-39_steps', '/m/treasure_of_the_sierra_madre', '/m/blade_runner_2049', '/m/the_jungle_book_2016', '/m/captain_america_civil_war', '/m/harry_potter_and_the_deathly_hallows_part_2_2011', '/m/skyfall', '/m/apocalypse_now', '/m/the_hurt_locker', '/m/the_lego_movie', '/m/1019774-stagecoach', '/m/star_trek_11', '/m/moana_2016', '/m/marvels_the_avengers', '/m/avengers_infinity_war', '/m/ant_man_and_the_wasp', '/m/goldfinger', '/m/mission_impossible_rogue_nation', '/m/isle_of_dogs_2018', '/m/star_wars', '/m/kubo_and_the_two_strings_2016', '/m/john_wick_chapter_3_parabellum', '/m/wall_e', '/m/terminator', '/m/iron_man', '/m/the_peanut_butter_falcon', '/m/the_african_queen_1951', '/m/rio_bravo', '/m/guardians_of_the_galaxy', '/m/french_connection', '/m/true_grit_2010', '/m/badlands', '/m/searchers', '/m/1000617-aliens', '/m/doctor_strange_2016', '/m/casino_royale', '/m/empire_strikes_back', '/m/1031278-gun_crazy', '/m/ran', '/m/hunt_for_the_wilderpeople', '/m/paths_of_glory', '/m/x_men_days_of_future_past', '/m/bridge_on_the_river_kwai', '/m/the_lego_batman_movie', '/m/princess_bride', '/m/all_is_lost_2013', '/m/looper', '/m/1043378-stalker', '/m/chicken_run', '/m/guardians_of_the_galaxy_vol_2', '/m/no_country_for_old_men', '/m/dawn_of_the_planet_of_the_apes', '/m/ghostbusters', '/m/fistful_of_dollars', '/m/1029042-henry_v', '/m/captain_marvel', '/m/sicario_2015', '/m/the_lord_of_the_rings_the_two_towers', '/m/back_to_the_future', '/m/captain_america_the_winter_soldier_2014', '/m/1001280-assault_on_precinct_13', '/m/deadpool_2', '/m/aguirre_the_wrath_of_god', '/m/1046129-fugitive', '/m/apollo_13', '/m/crouching_tiger_hidden_dragon', '/m/mission_impossible_ghost_protocol', '/m/1014481-mutiny_on_the_bounty', '/m/the_lion_king', '/m/jurassic_park', '/m/catch_me_if_you_can', '/m/who_framed_roger_rabbit', '/m/godzilla_1956']\n"
     ]
    }
   ],
   "source": [
    "time.sleep(random.choice([1,3,5,7]))\n",
    "#for i in range(2, 0, -1):\n",
    "url = 'https://www.rottentomatoes.com/top/bestofrt/top_100_action__adventure_movies/'\n",
    "results = requests.get(url, headers=headers)\n",
    "soup = BeautifulSoup(results.content, \"html.parser\")\n",
    "table = soup.find(\"table\", {'class' : 'table'})\n",
    "lst = [a['href'] for a in table.findAll(\"a\", {\"class\": \"unstyled articleLink\"})]\n",
    "p\n",
    "  #  for link in lst:\n",
    "  "
   ]
  },
  {
   "cell_type": "code",
   "execution_count": 25,
   "metadata": {
    "tags": []
   },
   "outputs": [
    {
     "name": "stdout",
     "output_type": "stream",
     "text": [
      "['/m/portrait_of_a_lady_on_fire', '/m/1917_2019', '/m/the_invisible_man_2020', '/m/never_rarely_sometimes_always', '/m/hamilton_2020', '/m/da_5_bloods', '/m/miss_juneteenth', '/m/onward', '/m/crip_camp_a_disability_revolution', '/m/blow_the_man_down', '/m/the_vast_of_night', '/m/time_2020', '/m/his_house', '/m/the_trial_of_the_chicago_7', '/m/the_personal_history_of_david_copperfield', '/m/palm_springs_2020', '/m/dick_johnson_is_dead', '/m/first_cow', '/m/nomadland', '/m/saint_frances', '/m/driveways', '/m/host_2020', '/m/the_forty_year_old_version', '/m/the_assistant_2020', '/m/totally_under_control', '/m/mucho_mucho_amor', '/m/welcome_to_chechnya', '/m/all_in_the_fight_for_democracy', '/m/athlete_a', '/m/extra_ordinary', '/m/on_the_record', '/m/corpus_christi_2020', '/m/slay_the_dragon', '/m/the_swerve', '/m/house_of_hummingbird', '/m/one_night_in_miami', '/m/the_painter_and_the_thief', '/m/a_secret_love', '/m/rewind_2020', '/m/coup_53', '/m/mystify_michael_hutchence', '/m/david_byrnes_american_utopia', '/m/the_half_of_it', '/m/relic_2020', '/m/the_fight_2020', '/m/beats_2020', '/m/boys_state', '/m/babyteeth', '/m/vitalina_varela', '/m/circus_of_books', '/m/la_llorona_2019', '/m/why_dont_you_just_die', '/m/disclosure_2020_2', '/m/rocks', '/m/enola_holmes', '/m/spontaneous', '/m/fourteen_2019', '/m/the_last_tree', '/m/possessor_uncut', '/m/red_penguins', '/m/wolfwalkers', '/m/a_shaun_the_sheep_movie_farmageddon', '/m/yes_god_yes', '/m/borat_subsequent_moviefilm', '/m/shirley_2020', '/m/feels_good_man', '/m/birds_of_prey_2020', '/m/john_lewis_good_trouble', '/m/a_white_white_day', '/m/emma_2020', '/m/just_mercy', '/m/saint_maud', '/m/bacurau', '/m/blood_on_her_name', '/m/shithouse', '/m/class_action_park', '/m/ordinary_love', '/m/on_the_rocks_2020', '/m/beastie_boys_story', '/m/black_is_king', '/m/kajillionaire', '/m/les_miserables_2020', '/m/calm_with_horses', '/m/and_then_we_danced', '/m/dinner_in_america', '/m/howard_2020', '/m/my_darling_vivian', '/m/the_ghost_of_peter_sellers', '/m/sound_of_metal', '/m/the_mole_agent', '/m/becoming_2020_2', '/m/the_climb_2020', '/m/come_as_you_are_2020', '/m/lucky_grandma', '/m/the_outpost_2020', '/m/alone_2020_2', '/m/desert_one', '/m/color_out_of_space', '/m/weathering_with_you', '/m/beanpole']\n"
     ]
    }
   ],
   "source": [
    "      url = 'https://www.rottentomatoes.com/m/\n",
    "        r= requests.get(url, headers=headers)\n",
    "        soup2 = BeautifulSoup(r.content, \"html.parser\")\n",
    "        div = soup2.find('div', class_='panel-body content_body')\n",
    "  #      genre = div.find('div', class_='meta-value genre').text\n",
    "  #      director = div.find('a', {'data-qa': 'movie-info-director'}).text\n",
    "    #    times = [a.text for a in div.select('div.meta-value time')]\n",
    "        #cast = [a.text for a in div2.find_all('title')]"
   ]
  },
  {
   "cell_type": "code",
   "execution_count": 15,
   "metadata": {},
   "outputs": [],
   "source": []
  },
  {
   "cell_type": "code",
   "execution_count": 24,
   "metadata": {},
   "outputs": [
    {
     "name": "stdout",
     "output_type": "stream",
     "text": [
      "\n                        \n                        drama, \n                        \n                        history, \n                        \n                        romance\n                        \n                    \nCéline Sciamma\n['Dec 6, 2019', '\\n                            Apr 3, 2020\\n                        ', '\\n                            2h 1m\\n                        ']\n"
     ]
    },
    {
     "data": {
      "text/plain": [
       "[]"
      ]
     },
     "execution_count": 24,
     "metadata": {},
     "output_type": "execute_result"
    }
   ],
   "source": []
  },
  {
   "cell_type": "code",
   "execution_count": null,
   "metadata": {},
   "outputs": [],
   "source": [
    "movies = pd.DataFrame({\n",
    "    'movie': titles, 'year' : years, 'pg_rating' : pg_ratings, 'imdb_id' : imdb_ids, 'runtime' : runtimes, 'genre' : genres, 'metascore' : metascores, 'imdb_rating' : imdb_ratings, 'votes' : votes, 'gross_us' : gross_us\n",
    "})"
   ]
  },
  {
   "cell_type": "code",
   "execution_count": null,
   "metadata": {},
   "outputs": [],
   "source": [
    "movies['imdb_id'] = movies['imdb_id'].str.extract('(\\d+)').astype(int)\n",
    "movies['year'] = movies['year'].str.extract('(\\d+)').astype(int)\n",
    "movies['runtime'] = movies['runtime'].str.extract('(\\d+)').astype(int)\n",
    "movies['metascore'] = movies['metascore'].str.rstrip()\n",
    "movies['metascore'] = pd.to_numeric(movies['metascore'], errors='coerce')\n",
    "movies['votes'] = movies['votes'].str.replace(',', '').astype(int)\n",
    "movies['gross_us'] = movies['gross_us'].map(lambda x: x.lstrip('$').rstrip('M'))\n",
    "movies['genre'] = movies['genre'].map(lambda x: x.strip('\\n').rstrip())\n"
   ]
  }
 ],
 "metadata": {
  "kernelspec": {
   "display_name": "Python 3",
   "name": "python3"
  },
  "language_info": {
   "codemirror_mode": {
    "name": "ipython",
    "version": 3
   },
   "file_extension": ".py",
   "mimetype": "text/x-python",
   "name": "python",
   "nbconvert_exporter": "python",
   "pygments_lexer": "ipython3",
   "version": "3.6.9-final"
  }
 },
 "nbformat": 4,
 "nbformat_minor": 2
}

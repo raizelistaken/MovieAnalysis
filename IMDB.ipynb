{
 "cells": [
  {
   "cell_type": "code",
   "execution_count": null,
   "metadata": {},
   "outputs": [],
   "source": []
  },
  {
   "cell_type": "code",
   "execution_count": null,
   "metadata": {},
   "outputs": [],
   "source": [
    "import time\n",
    "import random\n",
    "\n",
    "compiled_list = []\n",
    "n=0\n",
    "while n<500:\n",
    "    n+=1\n",
    "    url='https://api.themoviedb.org/3/movie/popular?api_key=ede4da3d6a4c60d07d6f76aba23865cb&language=en-US&page={}'.format(n)\n",
    "    r = requests.get(url)\n",
    "    data = r.json()\n",
    "    compiled_list.append(data)\n",
    "    time.sleep(random.choice([1,2,3,4,5]))"
   ]
  },
  {
   "cell_type": "code",
   "execution_count": null,
   "metadata": {},
   "outputs": [],
   "source": [
    "master_list = []\n",
    "for i in range(500):\n",
    "    for j in range(20):\n",
    "        master_list.append(compiled_list[i]['results'][j])"
   ]
  },
  {
   "cell_type": "code",
   "execution_count": null,
   "metadata": {},
   "outputs": [],
   "source": [
    "df = pd.DataFrame(master_list)"
   ]
  }
 ],
 "metadata": {
  "language_info": {
   "codemirror_mode": {
    "name": "ipython",
    "version": 3
   },
   "file_extension": ".py",
   "mimetype": "text/x-python",
   "name": "python",
   "nbconvert_exporter": "python",
   "pygments_lexer": "ipython3",
   "version": 3
  }
 },
 "nbformat": 4,
 "nbformat_minor": 2
}

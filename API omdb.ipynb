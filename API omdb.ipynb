{
 "cells": [
  {
   "cell_type": "markdown",
   "metadata": {},
   "source": [
    "key: 3cdda077\n",
    "OMDb API: http://www.omdbapi.com/?i=tt3896198&apikey=3cdda077"
   ]
  },
  {
   "cell_type": "code",
   "execution_count": 7,
   "metadata": {},
   "outputs": [],
   "source": [
    "import pandas as pd\n",
    "import numpy as np\n",
    "import matplotlib.pyplot as plt\n",
    "import seaborn as sns\n",
    "pd.set_option(\"display.max_rows\", 50)\n",
    "import requests\n",
    "import json\n",
    "import time\n",
    "import random"
   ]
  },
  {
   "cell_type": "code",
   "execution_count": 8,
   "metadata": {},
   "outputs": [],
   "source": [
    "%%capture\n",
    "from tqdm import tqdm_notebook as tqdm\n",
    "tqdm().pandas()"
   ]
  },
  {
   "cell_type": "code",
   "execution_count": 12,
   "metadata": {},
   "outputs": [],
   "source": [
    "r = requests.get('http://www.omdbapi.com/?i=tt3896198&apikey=3cdda077')"
   ]
  },
  {
   "cell_type": "code",
   "execution_count": 13,
   "metadata": {},
   "outputs": [],
   "source": [
    "j = r.json()"
   ]
  },
  {
   "cell_type": "code",
   "execution_count": 14,
   "metadata": {},
   "outputs": [
    {
     "data": {
      "text/plain": [
       "{'Title': 'Guardians of the Galaxy Vol. 2',\n",
       " 'Year': '2017',\n",
       " 'Rated': 'PG-13',\n",
       " 'Released': '05 May 2017',\n",
       " 'Runtime': '136 min',\n",
       " 'Genre': 'Action, Adventure, Comedy, Sci-Fi',\n",
       " 'Director': 'James Gunn',\n",
       " 'Writer': 'James Gunn, Dan Abnett (based on the Marvel comics by), Andy Lanning (based on the Marvel comics by), Steve Englehart (Star-Lord created by), Steve Gan (Star-Lord created by), Jim Starlin (Gamora and Drax created by), Stan Lee (Groot created by), Larry Lieber (Groot created by), Jack Kirby (Groot created by), Bill Mantlo (Rocket Raccoon created by), Keith Giffen (Rocket Raccoon created by), Steve Gerber (Howard the Duck created by), Val Mayerik (Howard the Duck created by)',\n",
       " 'Actors': 'Chris Pratt, Zoe Saldana, Dave Bautista, Vin Diesel',\n",
       " 'Plot': \"The Guardians struggle to keep together as a team while dealing with their personal family issues, notably Star-Lord's encounter with his father the ambitious celestial being Ego.\",\n",
       " 'Language': 'English',\n",
       " 'Country': 'USA',\n",
       " 'Awards': 'Nominated for 1 Oscar. Another 15 wins & 56 nominations.',\n",
       " 'Poster': 'https://m.media-amazon.com/images/M/MV5BNjM0NTc0NzItM2FlYS00YzEwLWE0YmUtNTA2ZWIzODc2OTgxXkEyXkFqcGdeQXVyNTgwNzIyNzg@._V1_SX300.jpg',\n",
       " 'Ratings': [{'Source': 'Internet Movie Database', 'Value': '7.6/10'},\n",
       "  {'Source': 'Rotten Tomatoes', 'Value': '85%'},\n",
       "  {'Source': 'Metacritic', 'Value': '67/100'}],\n",
       " 'Metascore': '67',\n",
       " 'imdbRating': '7.6',\n",
       " 'imdbVotes': '556,178',\n",
       " 'imdbID': 'tt3896198',\n",
       " 'Type': 'movie',\n",
       " 'DVD': 'N/A',\n",
       " 'BoxOffice': 'N/A',\n",
       " 'Production': 'Marvel Studios, Walt Disney Pictures',\n",
       " 'Website': 'N/A',\n",
       " 'Response': 'True'}"
      ]
     },
     "execution_count": 14,
     "metadata": {},
     "output_type": "execute_result"
    }
   ],
   "source": [
    "j"
   ]
  },
  {
   "cell_type": "code",
   "execution_count": 9,
   "metadata": {},
   "outputs": [
    {
     "name": "stderr",
     "output_type": "stream",
     "text": [
      "<ipython-input-9-c97fd13ab684>:2: TqdmDeprecationWarning: This function will be removed in tqdm==5.0.0\n",
      "Please use `tqdm.notebook.tqdm` instead of `tqdm.tqdm_notebook`\n",
      "  for n in tqdm(list(range(10))):\n"
     ]
    },
    {
     "data": {
      "application/vnd.jupyter.widget-view+json": {
       "model_id": "c3f4fd9fc2fc4e28ac110cb9b0abd8a1",
       "version_major": 2,
       "version_minor": 0
      },
      "text/plain": [
       "HBox(children=(FloatProgress(value=0.0, max=10.0), HTML(value='')))"
      ]
     },
     "metadata": {},
     "output_type": "display_data"
    },
    {
     "name": "stdout",
     "output_type": "stream",
     "text": [
      "\n"
     ]
    }
   ],
   "source": [
    " lst = []\n",
    "for n in tqdm(list(range(10))):\n",
    "    url='http://www.omdbapi.com/?i=tt3896198&apikey=3cdda077'.format(n)\n",
    "    r = requests.get(url)\n",
    "    data = r.json()\n",
    "    lst.append(data)\n",
    "    time.sleep(random.choice([1,2]))"
   ]
  },
  {
   "cell_type": "code",
   "execution_count": 11,
   "metadata": {},
   "outputs": [
    {
     "ename": "SyntaxError",
     "evalue": "invalid syntax (<ipython-input-11-2d05b1f63e36>, line 1)",
     "output_type": "error",
     "traceback": [
      "\u001b[1;36m  File \u001b[1;32m\"<ipython-input-11-2d05b1f63e36>\"\u001b[1;36m, line \u001b[1;32m1\u001b[0m\n\u001b[1;33m    http://www.omdbapi.com/?apikey=3cdda077\u001b[0m\n\u001b[1;37m         ^\u001b[0m\n\u001b[1;31mSyntaxError\u001b[0m\u001b[1;31m:\u001b[0m invalid syntax\n"
     ]
    }
   ],
   "source": [
    "http://www.omdbapi.com/?apikey=3cdda077"
   ]
  },
  {
   "cell_type": "code",
   "execution_count": 15,
   "metadata": {},
   "outputs": [
    {
     "data": {
      "text/plain": [
       "{'Title': 'Mean Girls',\n",
       " 'Year': '2004',\n",
       " 'Rated': 'PG-13',\n",
       " 'Released': '30 Apr 2004',\n",
       " 'Runtime': '97 min',\n",
       " 'Genre': 'Comedy',\n",
       " 'Director': 'Mark Waters',\n",
       " 'Writer': 'Rosalind Wiseman (book), Tina Fey (screenplay)',\n",
       " 'Actors': 'Lindsay Lohan, Rachel McAdams, Tina Fey, Tim Meadows',\n",
       " 'Plot': 'Her parents being zoologists, homeschooled Cady Heron lived in Africa for 15 years. Attending a Chicago public high school for the first time, she starts out by befriending the \"best people you will meet\", Janis, a supposedly lesbian girl; and Damian, a boy \"too gay to function\". Cady is warned to avoid the \"worst people you will ever meet\", the Plastics--a clique comprised of three girls: Gretchen Wieners, a girl who\\'s rich because her father invented toaster strudel; Karen Smith, the \"dumbest girl you will ever meet\"; and Regina George, the unofficial leader and the meanest one. She becomes a hit with the Plastics and eventually assimilates into the clique, only for Janis to ask her sabotage them. After conflicts involving Regina\\'s ex-boyfriend, Aaron Samuels, Cady later becomes tied between being part of them or sabotaging them. Whilst eventually becoming one, she sabotages them. She tricks Regina into eating fattening candy bars that she claims will make her skinny, tries to break her and Samuel up, and tries to turn her fellow Plastics, Karen and Gretchen against her. Will she be caught? Will she become too Plastic and become the fourth Plastic?',\n",
       " 'Language': 'English, German, Vietnamese, Swahili',\n",
       " 'Country': 'USA, Canada',\n",
       " 'Awards': '7 wins & 25 nominations.',\n",
       " 'Poster': 'https://m.media-amazon.com/images/M/MV5BMjE1MDQ4MjI1OV5BMl5BanBnXkFtZTcwNzcwODAzMw@@._V1_SX300.jpg',\n",
       " 'Ratings': [{'Source': 'Internet Movie Database', 'Value': '7.0/10'},\n",
       "  {'Source': 'Rotten Tomatoes', 'Value': '84%'},\n",
       "  {'Source': 'Metacritic', 'Value': '66/100'}],\n",
       " 'Metascore': '66',\n",
       " 'imdbRating': '7.0',\n",
       " 'imdbVotes': '327,949',\n",
       " 'imdbID': 'tt0377092',\n",
       " 'Type': 'movie',\n",
       " 'DVD': 'N/A',\n",
       " 'BoxOffice': 'N/A',\n",
       " 'Production': 'Paramount Pictures, M.G.Films',\n",
       " 'Website': 'N/A',\n",
       " 'Response': 'True'}"
      ]
     },
     "execution_count": 15,
     "metadata": {},
     "output_type": "execute_result"
    }
   ],
   "source": [
    "r= requests.get('http://www.omdbapi.com/?t=mean+girls&plot=full&apikey=3cdda077')\n",
    "j = r.json()\n",
    "j"
   ]
  },
  {
   "cell_type": "code",
   "execution_count": 16,
   "metadata": {},
   "outputs": [
    {
     "data": {
      "text/plain": [
       "{'Title': 'Grinch',\n",
       " 'Year': '2018',\n",
       " 'Rated': 'N/A',\n",
       " 'Released': '21 Nov 2018',\n",
       " 'Runtime': '7 min',\n",
       " 'Genre': 'Short, Family',\n",
       " 'Director': 'Terry Macneil',\n",
       " 'Writer': 'N/A',\n",
       " 'Actors': 'Gabriel Charpentier, Sophia Blizzard, Mason Brody Blizzard, Julian Macneil',\n",
       " 'Plot': 'the reclusive green Grinch decides to ruin Christmas for the cheery citizens of Whoville. Reluctantly joined by his hapless dog, Max, the Grinch comes down from his mountaintop home and ...',\n",
       " 'Language': 'English',\n",
       " 'Country': 'USA',\n",
       " 'Awards': 'N/A',\n",
       " 'Poster': 'https://m.media-amazon.com/images/M/MV5BOGU1NWQ2MmItODQ4MS00NGU5LTgwMGUtMzNmOGI5MzhhYmRlXkEyXkFqcGdeQXVyOTEwMDkxMTY@._V1_SX300.jpg',\n",
       " 'Ratings': [{'Source': 'Internet Movie Database', 'Value': '8.0/10'}],\n",
       " 'Metascore': 'N/A',\n",
       " 'imdbRating': '8.0',\n",
       " 'imdbVotes': '5',\n",
       " 'imdbID': 'tt9318552',\n",
       " 'Type': 'movie',\n",
       " 'DVD': 'N/A',\n",
       " 'BoxOffice': 'N/A',\n",
       " 'Production': 'N/A',\n",
       " 'Website': 'N/A',\n",
       " 'Response': 'True'}"
      ]
     },
     "execution_count": 16,
     "metadata": {},
     "output_type": "execute_result"
    }
   ],
   "source": [
    "r = requests.get('http://www.omdbapi.com/?t=grinch&plot=full&apikey=3cdda077')\n",
    "j = r.json()\n",
    "j"
   ]
  },
  {
   "cell_type": "code",
   "execution_count": null,
   "metadata": {},
   "outputs": [],
   "source": []
  }
 ],
 "metadata": {
  "kernelspec": {
   "display_name": "Python 3",
   "language": "python",
   "name": "python3"
  },
  "language_info": {
   "codemirror_mode": {
    "name": "ipython",
    "version": 3
   },
   "file_extension": ".py",
   "mimetype": "text/x-python",
   "name": "python",
   "nbconvert_exporter": "python",
   "pygments_lexer": "ipython3",
   "version": "3.8.3"
  },
  "varInspector": {
   "cols": {
    "lenName": 16,
    "lenType": 16,
    "lenVar": 40
   },
   "kernels_config": {
    "python": {
     "delete_cmd_postfix": "",
     "delete_cmd_prefix": "del ",
     "library": "var_list.py",
     "varRefreshCmd": "print(var_dic_list())"
    },
    "r": {
     "delete_cmd_postfix": ") ",
     "delete_cmd_prefix": "rm(",
     "library": "var_list.r",
     "varRefreshCmd": "cat(var_dic_list()) "
    }
   },
   "types_to_exclude": [
    "module",
    "function",
    "builtin_function_or_method",
    "instance",
    "_Feature"
   ],
   "window_display": false
  }
 },
 "nbformat": 4,
 "nbformat_minor": 4
}
